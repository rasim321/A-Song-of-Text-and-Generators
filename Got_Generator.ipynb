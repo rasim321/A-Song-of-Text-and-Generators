{
  "nbformat": 4,
  "nbformat_minor": 0,
  "metadata": {
    "colab": {
      "name": "Got_Generator.ipynb",
      "provenance": [],
      "authorship_tag": "ABX9TyNKThnpqtsF6pLOx9XxW2Cr",
      "include_colab_link": true
    },
    "kernelspec": {
      "name": "python3",
      "display_name": "Python 3"
    },
    "language_info": {
      "name": "python"
    },
    "accelerator": "GPU",
    "widgets": {
      "application/vnd.jupyter.widget-state+json": {
        "3ff3c878036b4aeeab4f284d0b101dce": {
          "model_module": "@jupyter-widgets/controls",
          "model_name": "HBoxModel",
          "state": {
            "_view_name": "HBoxView",
            "_dom_classes": [],
            "_model_name": "HBoxModel",
            "_view_module": "@jupyter-widgets/controls",
            "_model_module_version": "1.5.0",
            "_view_count": null,
            "_view_module_version": "1.5.0",
            "box_style": "",
            "layout": "IPY_MODEL_a6ee704babf2449f8825eb3fb5e60835",
            "_model_module": "@jupyter-widgets/controls",
            "children": [
              "IPY_MODEL_0cadbb8e438143b091c9f69261472f32",
              "IPY_MODEL_960e64ec34ef4f7ea060bcdbc82f0ac2"
            ]
          }
        },
        "a6ee704babf2449f8825eb3fb5e60835": {
          "model_module": "@jupyter-widgets/base",
          "model_name": "LayoutModel",
          "state": {
            "_view_name": "LayoutView",
            "grid_template_rows": null,
            "right": null,
            "justify_content": null,
            "_view_module": "@jupyter-widgets/base",
            "overflow": null,
            "_model_module_version": "1.2.0",
            "_view_count": null,
            "flex_flow": null,
            "width": null,
            "min_width": null,
            "border": null,
            "align_items": null,
            "bottom": null,
            "_model_module": "@jupyter-widgets/base",
            "top": null,
            "grid_column": null,
            "overflow_y": null,
            "overflow_x": null,
            "grid_auto_flow": null,
            "grid_area": null,
            "grid_template_columns": null,
            "flex": null,
            "_model_name": "LayoutModel",
            "justify_items": null,
            "grid_row": null,
            "max_height": null,
            "align_content": null,
            "visibility": null,
            "align_self": null,
            "height": null,
            "min_height": null,
            "padding": null,
            "grid_auto_rows": null,
            "grid_gap": null,
            "max_width": null,
            "order": null,
            "_view_module_version": "1.2.0",
            "grid_template_areas": null,
            "object_position": null,
            "object_fit": null,
            "grid_auto_columns": null,
            "margin": null,
            "display": null,
            "left": null
          }
        },
        "0cadbb8e438143b091c9f69261472f32": {
          "model_module": "@jupyter-widgets/controls",
          "model_name": "FloatProgressModel",
          "state": {
            "_view_name": "ProgressView",
            "style": "IPY_MODEL_d1a40b55785d42e9ae6ac6b13191897c",
            "_dom_classes": [],
            "description": "Downloading: 100%",
            "_model_name": "FloatProgressModel",
            "bar_style": "success",
            "max": 1042301,
            "_view_module": "@jupyter-widgets/controls",
            "_model_module_version": "1.5.0",
            "value": 1042301,
            "_view_count": null,
            "_view_module_version": "1.5.0",
            "orientation": "horizontal",
            "min": 0,
            "description_tooltip": null,
            "_model_module": "@jupyter-widgets/controls",
            "layout": "IPY_MODEL_372ef70e03704c1b9d242190e57dfb65"
          }
        },
        "960e64ec34ef4f7ea060bcdbc82f0ac2": {
          "model_module": "@jupyter-widgets/controls",
          "model_name": "HTMLModel",
          "state": {
            "_view_name": "HTMLView",
            "style": "IPY_MODEL_fa8175326f8b46d9af1235ecb5e1ac53",
            "_dom_classes": [],
            "description": "",
            "_model_name": "HTMLModel",
            "placeholder": "​",
            "_view_module": "@jupyter-widgets/controls",
            "_model_module_version": "1.5.0",
            "value": " 1.04M/1.04M [00:03&lt;00:00, 344kB/s]",
            "_view_count": null,
            "_view_module_version": "1.5.0",
            "description_tooltip": null,
            "_model_module": "@jupyter-widgets/controls",
            "layout": "IPY_MODEL_8f644174292e407dbcafde1148346ff1"
          }
        },
        "d1a40b55785d42e9ae6ac6b13191897c": {
          "model_module": "@jupyter-widgets/controls",
          "model_name": "ProgressStyleModel",
          "state": {
            "_view_name": "StyleView",
            "_model_name": "ProgressStyleModel",
            "description_width": "initial",
            "_view_module": "@jupyter-widgets/base",
            "_model_module_version": "1.5.0",
            "_view_count": null,
            "_view_module_version": "1.2.0",
            "bar_color": null,
            "_model_module": "@jupyter-widgets/controls"
          }
        },
        "372ef70e03704c1b9d242190e57dfb65": {
          "model_module": "@jupyter-widgets/base",
          "model_name": "LayoutModel",
          "state": {
            "_view_name": "LayoutView",
            "grid_template_rows": null,
            "right": null,
            "justify_content": null,
            "_view_module": "@jupyter-widgets/base",
            "overflow": null,
            "_model_module_version": "1.2.0",
            "_view_count": null,
            "flex_flow": null,
            "width": null,
            "min_width": null,
            "border": null,
            "align_items": null,
            "bottom": null,
            "_model_module": "@jupyter-widgets/base",
            "top": null,
            "grid_column": null,
            "overflow_y": null,
            "overflow_x": null,
            "grid_auto_flow": null,
            "grid_area": null,
            "grid_template_columns": null,
            "flex": null,
            "_model_name": "LayoutModel",
            "justify_items": null,
            "grid_row": null,
            "max_height": null,
            "align_content": null,
            "visibility": null,
            "align_self": null,
            "height": null,
            "min_height": null,
            "padding": null,
            "grid_auto_rows": null,
            "grid_gap": null,
            "max_width": null,
            "order": null,
            "_view_module_version": "1.2.0",
            "grid_template_areas": null,
            "object_position": null,
            "object_fit": null,
            "grid_auto_columns": null,
            "margin": null,
            "display": null,
            "left": null
          }
        },
        "fa8175326f8b46d9af1235ecb5e1ac53": {
          "model_module": "@jupyter-widgets/controls",
          "model_name": "DescriptionStyleModel",
          "state": {
            "_view_name": "StyleView",
            "_model_name": "DescriptionStyleModel",
            "description_width": "",
            "_view_module": "@jupyter-widgets/base",
            "_model_module_version": "1.5.0",
            "_view_count": null,
            "_view_module_version": "1.2.0",
            "_model_module": "@jupyter-widgets/controls"
          }
        },
        "8f644174292e407dbcafde1148346ff1": {
          "model_module": "@jupyter-widgets/base",
          "model_name": "LayoutModel",
          "state": {
            "_view_name": "LayoutView",
            "grid_template_rows": null,
            "right": null,
            "justify_content": null,
            "_view_module": "@jupyter-widgets/base",
            "overflow": null,
            "_model_module_version": "1.2.0",
            "_view_count": null,
            "flex_flow": null,
            "width": null,
            "min_width": null,
            "border": null,
            "align_items": null,
            "bottom": null,
            "_model_module": "@jupyter-widgets/base",
            "top": null,
            "grid_column": null,
            "overflow_y": null,
            "overflow_x": null,
            "grid_auto_flow": null,
            "grid_area": null,
            "grid_template_columns": null,
            "flex": null,
            "_model_name": "LayoutModel",
            "justify_items": null,
            "grid_row": null,
            "max_height": null,
            "align_content": null,
            "visibility": null,
            "align_self": null,
            "height": null,
            "min_height": null,
            "padding": null,
            "grid_auto_rows": null,
            "grid_gap": null,
            "max_width": null,
            "order": null,
            "_view_module_version": "1.2.0",
            "grid_template_areas": null,
            "object_position": null,
            "object_fit": null,
            "grid_auto_columns": null,
            "margin": null,
            "display": null,
            "left": null
          }
        },
        "a68a128476c04070a901a039abc98cc0": {
          "model_module": "@jupyter-widgets/controls",
          "model_name": "HBoxModel",
          "state": {
            "_view_name": "HBoxView",
            "_dom_classes": [],
            "_model_name": "HBoxModel",
            "_view_module": "@jupyter-widgets/controls",
            "_model_module_version": "1.5.0",
            "_view_count": null,
            "_view_module_version": "1.5.0",
            "box_style": "",
            "layout": "IPY_MODEL_7bc3d9ee0ab249f583f29a504dd3021f",
            "_model_module": "@jupyter-widgets/controls",
            "children": [
              "IPY_MODEL_3fb48ff8f498404eb7a01d2ca08915e2",
              "IPY_MODEL_2111796c4fbb40ccbe47636414f4fe98"
            ]
          }
        },
        "7bc3d9ee0ab249f583f29a504dd3021f": {
          "model_module": "@jupyter-widgets/base",
          "model_name": "LayoutModel",
          "state": {
            "_view_name": "LayoutView",
            "grid_template_rows": null,
            "right": null,
            "justify_content": null,
            "_view_module": "@jupyter-widgets/base",
            "overflow": null,
            "_model_module_version": "1.2.0",
            "_view_count": null,
            "flex_flow": null,
            "width": null,
            "min_width": null,
            "border": null,
            "align_items": null,
            "bottom": null,
            "_model_module": "@jupyter-widgets/base",
            "top": null,
            "grid_column": null,
            "overflow_y": null,
            "overflow_x": null,
            "grid_auto_flow": null,
            "grid_area": null,
            "grid_template_columns": null,
            "flex": null,
            "_model_name": "LayoutModel",
            "justify_items": null,
            "grid_row": null,
            "max_height": null,
            "align_content": null,
            "visibility": null,
            "align_self": null,
            "height": null,
            "min_height": null,
            "padding": null,
            "grid_auto_rows": null,
            "grid_gap": null,
            "max_width": null,
            "order": null,
            "_view_module_version": "1.2.0",
            "grid_template_areas": null,
            "object_position": null,
            "object_fit": null,
            "grid_auto_columns": null,
            "margin": null,
            "display": null,
            "left": null
          }
        },
        "3fb48ff8f498404eb7a01d2ca08915e2": {
          "model_module": "@jupyter-widgets/controls",
          "model_name": "FloatProgressModel",
          "state": {
            "_view_name": "ProgressView",
            "style": "IPY_MODEL_895bc2e37bb24c45a430a56be6e270b7",
            "_dom_classes": [],
            "description": "Downloading: 100%",
            "_model_name": "FloatProgressModel",
            "bar_style": "success",
            "max": 456318,
            "_view_module": "@jupyter-widgets/controls",
            "_model_module_version": "1.5.0",
            "value": 456318,
            "_view_count": null,
            "_view_module_version": "1.5.0",
            "orientation": "horizontal",
            "min": 0,
            "description_tooltip": null,
            "_model_module": "@jupyter-widgets/controls",
            "layout": "IPY_MODEL_801cf4981b454bf3be9572dcce8644c3"
          }
        },
        "2111796c4fbb40ccbe47636414f4fe98": {
          "model_module": "@jupyter-widgets/controls",
          "model_name": "HTMLModel",
          "state": {
            "_view_name": "HTMLView",
            "style": "IPY_MODEL_e25170eba0d44274af4006827db2c303",
            "_dom_classes": [],
            "description": "",
            "_model_name": "HTMLModel",
            "placeholder": "​",
            "_view_module": "@jupyter-widgets/controls",
            "_model_module_version": "1.5.0",
            "value": " 456k/456k [00:01&lt;00:00, 274kB/s]",
            "_view_count": null,
            "_view_module_version": "1.5.0",
            "description_tooltip": null,
            "_model_module": "@jupyter-widgets/controls",
            "layout": "IPY_MODEL_6b8b4055080e4dcb806c71da8371fafa"
          }
        },
        "895bc2e37bb24c45a430a56be6e270b7": {
          "model_module": "@jupyter-widgets/controls",
          "model_name": "ProgressStyleModel",
          "state": {
            "_view_name": "StyleView",
            "_model_name": "ProgressStyleModel",
            "description_width": "initial",
            "_view_module": "@jupyter-widgets/base",
            "_model_module_version": "1.5.0",
            "_view_count": null,
            "_view_module_version": "1.2.0",
            "bar_color": null,
            "_model_module": "@jupyter-widgets/controls"
          }
        },
        "801cf4981b454bf3be9572dcce8644c3": {
          "model_module": "@jupyter-widgets/base",
          "model_name": "LayoutModel",
          "state": {
            "_view_name": "LayoutView",
            "grid_template_rows": null,
            "right": null,
            "justify_content": null,
            "_view_module": "@jupyter-widgets/base",
            "overflow": null,
            "_model_module_version": "1.2.0",
            "_view_count": null,
            "flex_flow": null,
            "width": null,
            "min_width": null,
            "border": null,
            "align_items": null,
            "bottom": null,
            "_model_module": "@jupyter-widgets/base",
            "top": null,
            "grid_column": null,
            "overflow_y": null,
            "overflow_x": null,
            "grid_auto_flow": null,
            "grid_area": null,
            "grid_template_columns": null,
            "flex": null,
            "_model_name": "LayoutModel",
            "justify_items": null,
            "grid_row": null,
            "max_height": null,
            "align_content": null,
            "visibility": null,
            "align_self": null,
            "height": null,
            "min_height": null,
            "padding": null,
            "grid_auto_rows": null,
            "grid_gap": null,
            "max_width": null,
            "order": null,
            "_view_module_version": "1.2.0",
            "grid_template_areas": null,
            "object_position": null,
            "object_fit": null,
            "grid_auto_columns": null,
            "margin": null,
            "display": null,
            "left": null
          }
        },
        "e25170eba0d44274af4006827db2c303": {
          "model_module": "@jupyter-widgets/controls",
          "model_name": "DescriptionStyleModel",
          "state": {
            "_view_name": "StyleView",
            "_model_name": "DescriptionStyleModel",
            "description_width": "",
            "_view_module": "@jupyter-widgets/base",
            "_model_module_version": "1.5.0",
            "_view_count": null,
            "_view_module_version": "1.2.0",
            "_model_module": "@jupyter-widgets/controls"
          }
        },
        "6b8b4055080e4dcb806c71da8371fafa": {
          "model_module": "@jupyter-widgets/base",
          "model_name": "LayoutModel",
          "state": {
            "_view_name": "LayoutView",
            "grid_template_rows": null,
            "right": null,
            "justify_content": null,
            "_view_module": "@jupyter-widgets/base",
            "overflow": null,
            "_model_module_version": "1.2.0",
            "_view_count": null,
            "flex_flow": null,
            "width": null,
            "min_width": null,
            "border": null,
            "align_items": null,
            "bottom": null,
            "_model_module": "@jupyter-widgets/base",
            "top": null,
            "grid_column": null,
            "overflow_y": null,
            "overflow_x": null,
            "grid_auto_flow": null,
            "grid_area": null,
            "grid_template_columns": null,
            "flex": null,
            "_model_name": "LayoutModel",
            "justify_items": null,
            "grid_row": null,
            "max_height": null,
            "align_content": null,
            "visibility": null,
            "align_self": null,
            "height": null,
            "min_height": null,
            "padding": null,
            "grid_auto_rows": null,
            "grid_gap": null,
            "max_width": null,
            "order": null,
            "_view_module_version": "1.2.0",
            "grid_template_areas": null,
            "object_position": null,
            "object_fit": null,
            "grid_auto_columns": null,
            "margin": null,
            "display": null,
            "left": null
          }
        },
        "7becdafbc3f3401386633f30067dbef8": {
          "model_module": "@jupyter-widgets/controls",
          "model_name": "HBoxModel",
          "state": {
            "_view_name": "HBoxView",
            "_dom_classes": [],
            "_model_name": "HBoxModel",
            "_view_module": "@jupyter-widgets/controls",
            "_model_module_version": "1.5.0",
            "_view_count": null,
            "_view_module_version": "1.5.0",
            "box_style": "",
            "layout": "IPY_MODEL_55f687162e354fc5917f84c1e7a31d48",
            "_model_module": "@jupyter-widgets/controls",
            "children": [
              "IPY_MODEL_90d2b5c5218d48f8be50bfb99bcf8d29",
              "IPY_MODEL_ed48253f4cc340e9a6f10ba5208fe974"
            ]
          }
        },
        "55f687162e354fc5917f84c1e7a31d48": {
          "model_module": "@jupyter-widgets/base",
          "model_name": "LayoutModel",
          "state": {
            "_view_name": "LayoutView",
            "grid_template_rows": null,
            "right": null,
            "justify_content": null,
            "_view_module": "@jupyter-widgets/base",
            "overflow": null,
            "_model_module_version": "1.2.0",
            "_view_count": null,
            "flex_flow": null,
            "width": null,
            "min_width": null,
            "border": null,
            "align_items": null,
            "bottom": null,
            "_model_module": "@jupyter-widgets/base",
            "top": null,
            "grid_column": null,
            "overflow_y": null,
            "overflow_x": null,
            "grid_auto_flow": null,
            "grid_area": null,
            "grid_template_columns": null,
            "flex": null,
            "_model_name": "LayoutModel",
            "justify_items": null,
            "grid_row": null,
            "max_height": null,
            "align_content": null,
            "visibility": null,
            "align_self": null,
            "height": null,
            "min_height": null,
            "padding": null,
            "grid_auto_rows": null,
            "grid_gap": null,
            "max_width": null,
            "order": null,
            "_view_module_version": "1.2.0",
            "grid_template_areas": null,
            "object_position": null,
            "object_fit": null,
            "grid_auto_columns": null,
            "margin": null,
            "display": null,
            "left": null
          }
        },
        "90d2b5c5218d48f8be50bfb99bcf8d29": {
          "model_module": "@jupyter-widgets/controls",
          "model_name": "FloatProgressModel",
          "state": {
            "_view_name": "ProgressView",
            "style": "IPY_MODEL_cf4ce20509db4bb3b4096b8adae808e9",
            "_dom_classes": [],
            "description": "Downloading: 100%",
            "_model_name": "FloatProgressModel",
            "bar_style": "success",
            "max": 1355256,
            "_view_module": "@jupyter-widgets/controls",
            "_model_module_version": "1.5.0",
            "value": 1355256,
            "_view_count": null,
            "_view_module_version": "1.5.0",
            "orientation": "horizontal",
            "min": 0,
            "description_tooltip": null,
            "_model_module": "@jupyter-widgets/controls",
            "layout": "IPY_MODEL_8f3899f679f94d8c9137d73c1749896b"
          }
        },
        "ed48253f4cc340e9a6f10ba5208fe974": {
          "model_module": "@jupyter-widgets/controls",
          "model_name": "HTMLModel",
          "state": {
            "_view_name": "HTMLView",
            "style": "IPY_MODEL_7650e34f0851446f9e2d945a70630e14",
            "_dom_classes": [],
            "description": "",
            "_model_name": "HTMLModel",
            "placeholder": "​",
            "_view_module": "@jupyter-widgets/controls",
            "_model_module_version": "1.5.0",
            "value": " 1.36M/1.36M [00:00&lt;00:00, 4.05MB/s]",
            "_view_count": null,
            "_view_module_version": "1.5.0",
            "description_tooltip": null,
            "_model_module": "@jupyter-widgets/controls",
            "layout": "IPY_MODEL_19c9c7617cc2467280e749533f37c895"
          }
        },
        "cf4ce20509db4bb3b4096b8adae808e9": {
          "model_module": "@jupyter-widgets/controls",
          "model_name": "ProgressStyleModel",
          "state": {
            "_view_name": "StyleView",
            "_model_name": "ProgressStyleModel",
            "description_width": "initial",
            "_view_module": "@jupyter-widgets/base",
            "_model_module_version": "1.5.0",
            "_view_count": null,
            "_view_module_version": "1.2.0",
            "bar_color": null,
            "_model_module": "@jupyter-widgets/controls"
          }
        },
        "8f3899f679f94d8c9137d73c1749896b": {
          "model_module": "@jupyter-widgets/base",
          "model_name": "LayoutModel",
          "state": {
            "_view_name": "LayoutView",
            "grid_template_rows": null,
            "right": null,
            "justify_content": null,
            "_view_module": "@jupyter-widgets/base",
            "overflow": null,
            "_model_module_version": "1.2.0",
            "_view_count": null,
            "flex_flow": null,
            "width": null,
            "min_width": null,
            "border": null,
            "align_items": null,
            "bottom": null,
            "_model_module": "@jupyter-widgets/base",
            "top": null,
            "grid_column": null,
            "overflow_y": null,
            "overflow_x": null,
            "grid_auto_flow": null,
            "grid_area": null,
            "grid_template_columns": null,
            "flex": null,
            "_model_name": "LayoutModel",
            "justify_items": null,
            "grid_row": null,
            "max_height": null,
            "align_content": null,
            "visibility": null,
            "align_self": null,
            "height": null,
            "min_height": null,
            "padding": null,
            "grid_auto_rows": null,
            "grid_gap": null,
            "max_width": null,
            "order": null,
            "_view_module_version": "1.2.0",
            "grid_template_areas": null,
            "object_position": null,
            "object_fit": null,
            "grid_auto_columns": null,
            "margin": null,
            "display": null,
            "left": null
          }
        },
        "7650e34f0851446f9e2d945a70630e14": {
          "model_module": "@jupyter-widgets/controls",
          "model_name": "DescriptionStyleModel",
          "state": {
            "_view_name": "StyleView",
            "_model_name": "DescriptionStyleModel",
            "description_width": "",
            "_view_module": "@jupyter-widgets/base",
            "_model_module_version": "1.5.0",
            "_view_count": null,
            "_view_module_version": "1.2.0",
            "_model_module": "@jupyter-widgets/controls"
          }
        },
        "19c9c7617cc2467280e749533f37c895": {
          "model_module": "@jupyter-widgets/base",
          "model_name": "LayoutModel",
          "state": {
            "_view_name": "LayoutView",
            "grid_template_rows": null,
            "right": null,
            "justify_content": null,
            "_view_module": "@jupyter-widgets/base",
            "overflow": null,
            "_model_module_version": "1.2.0",
            "_view_count": null,
            "flex_flow": null,
            "width": null,
            "min_width": null,
            "border": null,
            "align_items": null,
            "bottom": null,
            "_model_module": "@jupyter-widgets/base",
            "top": null,
            "grid_column": null,
            "overflow_y": null,
            "overflow_x": null,
            "grid_auto_flow": null,
            "grid_area": null,
            "grid_template_columns": null,
            "flex": null,
            "_model_name": "LayoutModel",
            "justify_items": null,
            "grid_row": null,
            "max_height": null,
            "align_content": null,
            "visibility": null,
            "align_self": null,
            "height": null,
            "min_height": null,
            "padding": null,
            "grid_auto_rows": null,
            "grid_gap": null,
            "max_width": null,
            "order": null,
            "_view_module_version": "1.2.0",
            "grid_template_areas": null,
            "object_position": null,
            "object_fit": null,
            "grid_auto_columns": null,
            "margin": null,
            "display": null,
            "left": null
          }
        },
        "79048f1de70f4d5cb2b0e98c08b22b38": {
          "model_module": "@jupyter-widgets/controls",
          "model_name": "HBoxModel",
          "state": {
            "_view_name": "HBoxView",
            "_dom_classes": [],
            "_model_name": "HBoxModel",
            "_view_module": "@jupyter-widgets/controls",
            "_model_module_version": "1.5.0",
            "_view_count": null,
            "_view_module_version": "1.5.0",
            "box_style": "",
            "layout": "IPY_MODEL_791203d2c6ca49a3bca637eac0532bba",
            "_model_module": "@jupyter-widgets/controls",
            "children": [
              "IPY_MODEL_9b67d7fe8f0e41b78bc65ecd485701ed",
              "IPY_MODEL_cae118f3551e44498b7357288045c4a7"
            ]
          }
        },
        "791203d2c6ca49a3bca637eac0532bba": {
          "model_module": "@jupyter-widgets/base",
          "model_name": "LayoutModel",
          "state": {
            "_view_name": "LayoutView",
            "grid_template_rows": null,
            "right": null,
            "justify_content": null,
            "_view_module": "@jupyter-widgets/base",
            "overflow": null,
            "_model_module_version": "1.2.0",
            "_view_count": null,
            "flex_flow": null,
            "width": null,
            "min_width": null,
            "border": null,
            "align_items": null,
            "bottom": null,
            "_model_module": "@jupyter-widgets/base",
            "top": null,
            "grid_column": null,
            "overflow_y": null,
            "overflow_x": null,
            "grid_auto_flow": null,
            "grid_area": null,
            "grid_template_columns": null,
            "flex": null,
            "_model_name": "LayoutModel",
            "justify_items": null,
            "grid_row": null,
            "max_height": null,
            "align_content": null,
            "visibility": null,
            "align_self": null,
            "height": null,
            "min_height": null,
            "padding": null,
            "grid_auto_rows": null,
            "grid_gap": null,
            "max_width": null,
            "order": null,
            "_view_module_version": "1.2.0",
            "grid_template_areas": null,
            "object_position": null,
            "object_fit": null,
            "grid_auto_columns": null,
            "margin": null,
            "display": null,
            "left": null
          }
        },
        "9b67d7fe8f0e41b78bc65ecd485701ed": {
          "model_module": "@jupyter-widgets/controls",
          "model_name": "FloatProgressModel",
          "state": {
            "_view_name": "ProgressView",
            "style": "IPY_MODEL_7e7fe364c0d54bd9a90af760c41c37f4",
            "_dom_classes": [],
            "description": "Downloading: 100%",
            "_model_name": "FloatProgressModel",
            "bar_style": "success",
            "max": 762,
            "_view_module": "@jupyter-widgets/controls",
            "_model_module_version": "1.5.0",
            "value": 762,
            "_view_count": null,
            "_view_module_version": "1.5.0",
            "orientation": "horizontal",
            "min": 0,
            "description_tooltip": null,
            "_model_module": "@jupyter-widgets/controls",
            "layout": "IPY_MODEL_25608fb57fbf4972b5a6007edfbd2163"
          }
        },
        "cae118f3551e44498b7357288045c4a7": {
          "model_module": "@jupyter-widgets/controls",
          "model_name": "HTMLModel",
          "state": {
            "_view_name": "HTMLView",
            "style": "IPY_MODEL_1b5ae6d2a74742d2a941cef36c8b3281",
            "_dom_classes": [],
            "description": "",
            "_model_name": "HTMLModel",
            "placeholder": "​",
            "_view_module": "@jupyter-widgets/controls",
            "_model_module_version": "1.5.0",
            "value": " 762/762 [00:00&lt;00:00, 5.55kB/s]",
            "_view_count": null,
            "_view_module_version": "1.5.0",
            "description_tooltip": null,
            "_model_module": "@jupyter-widgets/controls",
            "layout": "IPY_MODEL_ce67c6e9aa2f401f83a7413f9a710dc5"
          }
        },
        "7e7fe364c0d54bd9a90af760c41c37f4": {
          "model_module": "@jupyter-widgets/controls",
          "model_name": "ProgressStyleModel",
          "state": {
            "_view_name": "StyleView",
            "_model_name": "ProgressStyleModel",
            "description_width": "initial",
            "_view_module": "@jupyter-widgets/base",
            "_model_module_version": "1.5.0",
            "_view_count": null,
            "_view_module_version": "1.2.0",
            "bar_color": null,
            "_model_module": "@jupyter-widgets/controls"
          }
        },
        "25608fb57fbf4972b5a6007edfbd2163": {
          "model_module": "@jupyter-widgets/base",
          "model_name": "LayoutModel",
          "state": {
            "_view_name": "LayoutView",
            "grid_template_rows": null,
            "right": null,
            "justify_content": null,
            "_view_module": "@jupyter-widgets/base",
            "overflow": null,
            "_model_module_version": "1.2.0",
            "_view_count": null,
            "flex_flow": null,
            "width": null,
            "min_width": null,
            "border": null,
            "align_items": null,
            "bottom": null,
            "_model_module": "@jupyter-widgets/base",
            "top": null,
            "grid_column": null,
            "overflow_y": null,
            "overflow_x": null,
            "grid_auto_flow": null,
            "grid_area": null,
            "grid_template_columns": null,
            "flex": null,
            "_model_name": "LayoutModel",
            "justify_items": null,
            "grid_row": null,
            "max_height": null,
            "align_content": null,
            "visibility": null,
            "align_self": null,
            "height": null,
            "min_height": null,
            "padding": null,
            "grid_auto_rows": null,
            "grid_gap": null,
            "max_width": null,
            "order": null,
            "_view_module_version": "1.2.0",
            "grid_template_areas": null,
            "object_position": null,
            "object_fit": null,
            "grid_auto_columns": null,
            "margin": null,
            "display": null,
            "left": null
          }
        },
        "1b5ae6d2a74742d2a941cef36c8b3281": {
          "model_module": "@jupyter-widgets/controls",
          "model_name": "DescriptionStyleModel",
          "state": {
            "_view_name": "StyleView",
            "_model_name": "DescriptionStyleModel",
            "description_width": "",
            "_view_module": "@jupyter-widgets/base",
            "_model_module_version": "1.5.0",
            "_view_count": null,
            "_view_module_version": "1.2.0",
            "_model_module": "@jupyter-widgets/controls"
          }
        },
        "ce67c6e9aa2f401f83a7413f9a710dc5": {
          "model_module": "@jupyter-widgets/base",
          "model_name": "LayoutModel",
          "state": {
            "_view_name": "LayoutView",
            "grid_template_rows": null,
            "right": null,
            "justify_content": null,
            "_view_module": "@jupyter-widgets/base",
            "overflow": null,
            "_model_module_version": "1.2.0",
            "_view_count": null,
            "flex_flow": null,
            "width": null,
            "min_width": null,
            "border": null,
            "align_items": null,
            "bottom": null,
            "_model_module": "@jupyter-widgets/base",
            "top": null,
            "grid_column": null,
            "overflow_y": null,
            "overflow_x": null,
            "grid_auto_flow": null,
            "grid_area": null,
            "grid_template_columns": null,
            "flex": null,
            "_model_name": "LayoutModel",
            "justify_items": null,
            "grid_row": null,
            "max_height": null,
            "align_content": null,
            "visibility": null,
            "align_self": null,
            "height": null,
            "min_height": null,
            "padding": null,
            "grid_auto_rows": null,
            "grid_gap": null,
            "max_width": null,
            "order": null,
            "_view_module_version": "1.2.0",
            "grid_template_areas": null,
            "object_position": null,
            "object_fit": null,
            "grid_auto_columns": null,
            "margin": null,
            "display": null,
            "left": null
          }
        },
        "87bfba0cfb2844a7860354bf6cabc712": {
          "model_module": "@jupyter-widgets/controls",
          "model_name": "HBoxModel",
          "state": {
            "_view_name": "HBoxView",
            "_dom_classes": [],
            "_model_name": "HBoxModel",
            "_view_module": "@jupyter-widgets/controls",
            "_model_module_version": "1.5.0",
            "_view_count": null,
            "_view_module_version": "1.5.0",
            "box_style": "",
            "layout": "IPY_MODEL_bdb98785de9e4636aa23702c91d91451",
            "_model_module": "@jupyter-widgets/controls",
            "children": [
              "IPY_MODEL_8eff97302d99480f8bdc83357c2624c1",
              "IPY_MODEL_6673ddad85ae45af873c72aaa5995fe8"
            ]
          }
        },
        "bdb98785de9e4636aa23702c91d91451": {
          "model_module": "@jupyter-widgets/base",
          "model_name": "LayoutModel",
          "state": {
            "_view_name": "LayoutView",
            "grid_template_rows": null,
            "right": null,
            "justify_content": null,
            "_view_module": "@jupyter-widgets/base",
            "overflow": null,
            "_model_module_version": "1.2.0",
            "_view_count": null,
            "flex_flow": null,
            "width": null,
            "min_width": null,
            "border": null,
            "align_items": null,
            "bottom": null,
            "_model_module": "@jupyter-widgets/base",
            "top": null,
            "grid_column": null,
            "overflow_y": null,
            "overflow_x": null,
            "grid_auto_flow": null,
            "grid_area": null,
            "grid_template_columns": null,
            "flex": null,
            "_model_name": "LayoutModel",
            "justify_items": null,
            "grid_row": null,
            "max_height": null,
            "align_content": null,
            "visibility": null,
            "align_self": null,
            "height": null,
            "min_height": null,
            "padding": null,
            "grid_auto_rows": null,
            "grid_gap": null,
            "max_width": null,
            "order": null,
            "_view_module_version": "1.2.0",
            "grid_template_areas": null,
            "object_position": null,
            "object_fit": null,
            "grid_auto_columns": null,
            "margin": null,
            "display": null,
            "left": null
          }
        },
        "8eff97302d99480f8bdc83357c2624c1": {
          "model_module": "@jupyter-widgets/controls",
          "model_name": "FloatProgressModel",
          "state": {
            "_view_name": "ProgressView",
            "style": "IPY_MODEL_0a790c155e0f46e29ff9d1a3ca0595dd",
            "_dom_classes": [],
            "description": "Downloading: 100%",
            "_model_name": "FloatProgressModel",
            "bar_style": "success",
            "max": 327744160,
            "_view_module": "@jupyter-widgets/controls",
            "_model_module_version": "1.5.0",
            "value": 327744160,
            "_view_count": null,
            "_view_module_version": "1.5.0",
            "orientation": "horizontal",
            "min": 0,
            "description_tooltip": null,
            "_model_module": "@jupyter-widgets/controls",
            "layout": "IPY_MODEL_47684c93229f49159e706b6d86248033"
          }
        },
        "6673ddad85ae45af873c72aaa5995fe8": {
          "model_module": "@jupyter-widgets/controls",
          "model_name": "HTMLModel",
          "state": {
            "_view_name": "HTMLView",
            "style": "IPY_MODEL_7a0d884fea2e421185a35b16f97ffb35",
            "_dom_classes": [],
            "description": "",
            "_model_name": "HTMLModel",
            "placeholder": "​",
            "_view_module": "@jupyter-widgets/controls",
            "_model_module_version": "1.5.0",
            "value": " 328M/328M [00:06&lt;00:00, 50.7MB/s]",
            "_view_count": null,
            "_view_module_version": "1.5.0",
            "description_tooltip": null,
            "_model_module": "@jupyter-widgets/controls",
            "layout": "IPY_MODEL_256bf27c7cd149bb9a2a1b8783d8a8db"
          }
        },
        "0a790c155e0f46e29ff9d1a3ca0595dd": {
          "model_module": "@jupyter-widgets/controls",
          "model_name": "ProgressStyleModel",
          "state": {
            "_view_name": "StyleView",
            "_model_name": "ProgressStyleModel",
            "description_width": "initial",
            "_view_module": "@jupyter-widgets/base",
            "_model_module_version": "1.5.0",
            "_view_count": null,
            "_view_module_version": "1.2.0",
            "bar_color": null,
            "_model_module": "@jupyter-widgets/controls"
          }
        },
        "47684c93229f49159e706b6d86248033": {
          "model_module": "@jupyter-widgets/base",
          "model_name": "LayoutModel",
          "state": {
            "_view_name": "LayoutView",
            "grid_template_rows": null,
            "right": null,
            "justify_content": null,
            "_view_module": "@jupyter-widgets/base",
            "overflow": null,
            "_model_module_version": "1.2.0",
            "_view_count": null,
            "flex_flow": null,
            "width": null,
            "min_width": null,
            "border": null,
            "align_items": null,
            "bottom": null,
            "_model_module": "@jupyter-widgets/base",
            "top": null,
            "grid_column": null,
            "overflow_y": null,
            "overflow_x": null,
            "grid_auto_flow": null,
            "grid_area": null,
            "grid_template_columns": null,
            "flex": null,
            "_model_name": "LayoutModel",
            "justify_items": null,
            "grid_row": null,
            "max_height": null,
            "align_content": null,
            "visibility": null,
            "align_self": null,
            "height": null,
            "min_height": null,
            "padding": null,
            "grid_auto_rows": null,
            "grid_gap": null,
            "max_width": null,
            "order": null,
            "_view_module_version": "1.2.0",
            "grid_template_areas": null,
            "object_position": null,
            "object_fit": null,
            "grid_auto_columns": null,
            "margin": null,
            "display": null,
            "left": null
          }
        },
        "7a0d884fea2e421185a35b16f97ffb35": {
          "model_module": "@jupyter-widgets/controls",
          "model_name": "DescriptionStyleModel",
          "state": {
            "_view_name": "StyleView",
            "_model_name": "DescriptionStyleModel",
            "description_width": "",
            "_view_module": "@jupyter-widgets/base",
            "_model_module_version": "1.5.0",
            "_view_count": null,
            "_view_module_version": "1.2.0",
            "_model_module": "@jupyter-widgets/controls"
          }
        },
        "256bf27c7cd149bb9a2a1b8783d8a8db": {
          "model_module": "@jupyter-widgets/base",
          "model_name": "LayoutModel",
          "state": {
            "_view_name": "LayoutView",
            "grid_template_rows": null,
            "right": null,
            "justify_content": null,
            "_view_module": "@jupyter-widgets/base",
            "overflow": null,
            "_model_module_version": "1.2.0",
            "_view_count": null,
            "flex_flow": null,
            "width": null,
            "min_width": null,
            "border": null,
            "align_items": null,
            "bottom": null,
            "_model_module": "@jupyter-widgets/base",
            "top": null,
            "grid_column": null,
            "overflow_y": null,
            "overflow_x": null,
            "grid_auto_flow": null,
            "grid_area": null,
            "grid_template_columns": null,
            "flex": null,
            "_model_name": "LayoutModel",
            "justify_items": null,
            "grid_row": null,
            "max_height": null,
            "align_content": null,
            "visibility": null,
            "align_self": null,
            "height": null,
            "min_height": null,
            "padding": null,
            "grid_auto_rows": null,
            "grid_gap": null,
            "max_width": null,
            "order": null,
            "_view_module_version": "1.2.0",
            "grid_template_areas": null,
            "object_position": null,
            "object_fit": null,
            "grid_auto_columns": null,
            "margin": null,
            "display": null,
            "left": null
          }
        }
      }
    }
  },
  "cells": [
    {
      "cell_type": "markdown",
      "metadata": {
        "id": "view-in-github",
        "colab_type": "text"
      },
      "source": [
        "<a href=\"https://colab.research.google.com/github/rasim321/A-Song-of-Text-and-Generators/blob/main/Got_Generator.ipynb\" target=\"_parent\"><img src=\"https://colab.research.google.com/assets/colab-badge.svg\" alt=\"Open In Colab\"/></a>"
      ]
    },
    {
      "cell_type": "code",
      "metadata": {
        "colab": {
          "base_uri": "https://localhost:8080/"
        },
        "id": "vm0J9w7m_ni4",
        "outputId": "e94d097d-e980-4c0d-b7ba-71061be2fdf6"
      },
      "source": [
        "import re\n",
        "!pip install transformers"
      ],
      "execution_count": 1,
      "outputs": [
        {
          "output_type": "stream",
          "text": [
            "Collecting transformers\n",
            "\u001b[?25l  Downloading https://files.pythonhosted.org/packages/d5/43/cfe4ee779bbd6a678ac6a97c5a5cdeb03c35f9eaebbb9720b036680f9a2d/transformers-4.6.1-py3-none-any.whl (2.2MB)\n",
            "\u001b[K     |████████████████████████████████| 2.3MB 7.7MB/s \n",
            "\u001b[?25hRequirement already satisfied: filelock in /usr/local/lib/python3.7/dist-packages (from transformers) (3.0.12)\n",
            "Collecting huggingface-hub==0.0.8\n",
            "  Downloading https://files.pythonhosted.org/packages/a1/88/7b1e45720ecf59c6c6737ff332f41c955963090a18e72acbcbeac6b25e86/huggingface_hub-0.0.8-py3-none-any.whl\n",
            "Requirement already satisfied: numpy>=1.17 in /usr/local/lib/python3.7/dist-packages (from transformers) (1.19.5)\n",
            "Requirement already satisfied: packaging in /usr/local/lib/python3.7/dist-packages (from transformers) (20.9)\n",
            "Requirement already satisfied: importlib-metadata; python_version < \"3.8\" in /usr/local/lib/python3.7/dist-packages (from transformers) (4.0.1)\n",
            "Collecting sacremoses\n",
            "\u001b[?25l  Downloading https://files.pythonhosted.org/packages/75/ee/67241dc87f266093c533a2d4d3d69438e57d7a90abb216fa076e7d475d4a/sacremoses-0.0.45-py3-none-any.whl (895kB)\n",
            "\u001b[K     |████████████████████████████████| 901kB 37.3MB/s \n",
            "\u001b[?25hRequirement already satisfied: tqdm>=4.27 in /usr/local/lib/python3.7/dist-packages (from transformers) (4.41.1)\n",
            "Requirement already satisfied: requests in /usr/local/lib/python3.7/dist-packages (from transformers) (2.23.0)\n",
            "Collecting tokenizers<0.11,>=0.10.1\n",
            "\u001b[?25l  Downloading https://files.pythonhosted.org/packages/d4/e2/df3543e8ffdab68f5acc73f613de9c2b155ac47f162e725dcac87c521c11/tokenizers-0.10.3-cp37-cp37m-manylinux_2_5_x86_64.manylinux1_x86_64.manylinux_2_12_x86_64.manylinux2010_x86_64.whl (3.3MB)\n",
            "\u001b[K     |████████████████████████████████| 3.3MB 47.3MB/s \n",
            "\u001b[?25hRequirement already satisfied: regex!=2019.12.17 in /usr/local/lib/python3.7/dist-packages (from transformers) (2019.12.20)\n",
            "Requirement already satisfied: pyparsing>=2.0.2 in /usr/local/lib/python3.7/dist-packages (from packaging->transformers) (2.4.7)\n",
            "Requirement already satisfied: zipp>=0.5 in /usr/local/lib/python3.7/dist-packages (from importlib-metadata; python_version < \"3.8\"->transformers) (3.4.1)\n",
            "Requirement already satisfied: typing-extensions>=3.6.4; python_version < \"3.8\" in /usr/local/lib/python3.7/dist-packages (from importlib-metadata; python_version < \"3.8\"->transformers) (3.7.4.3)\n",
            "Requirement already satisfied: click in /usr/local/lib/python3.7/dist-packages (from sacremoses->transformers) (7.1.2)\n",
            "Requirement already satisfied: six in /usr/local/lib/python3.7/dist-packages (from sacremoses->transformers) (1.15.0)\n",
            "Requirement already satisfied: joblib in /usr/local/lib/python3.7/dist-packages (from sacremoses->transformers) (1.0.1)\n",
            "Requirement already satisfied: certifi>=2017.4.17 in /usr/local/lib/python3.7/dist-packages (from requests->transformers) (2020.12.5)\n",
            "Requirement already satisfied: idna<3,>=2.5 in /usr/local/lib/python3.7/dist-packages (from requests->transformers) (2.10)\n",
            "Requirement already satisfied: chardet<4,>=3.0.2 in /usr/local/lib/python3.7/dist-packages (from requests->transformers) (3.0.4)\n",
            "Requirement already satisfied: urllib3!=1.25.0,!=1.25.1,<1.26,>=1.21.1 in /usr/local/lib/python3.7/dist-packages (from requests->transformers) (1.24.3)\n",
            "Installing collected packages: huggingface-hub, sacremoses, tokenizers, transformers\n",
            "Successfully installed huggingface-hub-0.0.8 sacremoses-0.0.45 tokenizers-0.10.3 transformers-4.6.1\n"
          ],
          "name": "stdout"
        }
      ]
    },
    {
      "cell_type": "code",
      "metadata": {
        "id": "kZwAmbMf9plP"
      },
      "source": [
        "#Read the books\n",
        "books =[]\n",
        "for book in ['got1.txt', 'got2.txt', 'got3.txt', 'got4.txt', 'got5.txt']:\n",
        "  book = \"/content/\" + book\n",
        "  with open(book) as file:\n",
        "    books.append(file.read())\n",
        "\n",
        "#Clean the books of \"\\n\" tags\n",
        "books_cl = []\n",
        "for book_text in books:\n",
        "  books_cl.append(book_text.replace('\\n', ' '))\n"
      ],
      "execution_count": 2,
      "outputs": []
    },
    {
      "cell_type": "markdown",
      "metadata": {
        "id": "6C_I1MiXBhiZ"
      },
      "source": [
        "We do not want to take the punctuation and stop words from the text corpus because we want our language model to learn the structure of the text. So those stay on. It is a good idea to clean the books of the content page and the general publisher text from the beginning of the book. "
      ]
    },
    {
      "cell_type": "code",
      "metadata": {
        "colab": {
          "base_uri": "https://localhost:8080/",
          "height": 400
        },
        "id": "uGKta-5D9vGC",
        "outputId": "b76ec38c-2a6b-45e7-c764-9ba17391f5a7"
      },
      "source": [
        "import matplotlib.pyplot as plt\n",
        "\n",
        "bl_lens = [len(i) for i in books_cl]\n",
        "bl_names = ['A Game of Thrones', \"A Clash of Kings\", \"A Storm of Swords\", \"A Feast of Crows\", \"A Dance with Dragons\"]\n",
        "\n",
        "plt.bar(bl_names, bl_lens)\n",
        "plt.xticks(rotation=90)\n",
        "plt.title(\"Number of characters per book\")\n"
      ],
      "execution_count": 3,
      "outputs": [
        {
          "output_type": "execute_result",
          "data": {
            "text/plain": [
              "Text(0.5, 1.0, 'Number of characters per book')"
            ]
          },
          "metadata": {
            "tags": []
          },
          "execution_count": 3
        },
        {
          "output_type": "display_data",
          "data": {
            "image/png": "[encoded data removed]",
            "text/plain": [
              "<Figure size 432x288 with 1 Axes>"
            ]
          },
          "metadata": {
            "tags": [],
            "needs_background": "light"
          }
        }
      ]
    },
    {
      "cell_type": "code",
      "metadata": {
        "colab": {
          "base_uri": "https://localhost:8080/",
          "height": 400
        },
        "id": "_GdKcB4X_-Ib",
        "outputId": "7087f1a3-7f6d-4bf0-d905-ed8ba9025344"
      },
      "source": [
        "bl_words = []\n",
        "\n",
        "for book in books_cl: \n",
        "  bl_words.append(len(book.split()))\n",
        "\n",
        "plt.bar(bl_names, bl_words)\n",
        "plt.xticks(rotation=90)\n",
        "plt.title(\"Number of words per book\")"
      ],
      "execution_count": 4,
      "outputs": [
        {
          "output_type": "execute_result",
          "data": {
            "text/plain": [
              "Text(0.5, 1.0, 'Number of words per book')"
            ]
          },
          "metadata": {
            "tags": []
          },
          "execution_count": 4
        },
        {
          "output_type": "display_data",
          "data": {
            "image/png": "[encoded data removed]",
            "text/plain": [
              "<Figure size 432x288 with 1 Axes>"
            ]
          },
          "metadata": {
            "tags": [],
            "needs_background": "light"
          }
        }
      ]
    },
    {
      "cell_type": "markdown",
      "metadata": {
        "id": "Dwi6GOEAhfF6"
      },
      "source": [
        "The third and fifth books are the longest in the series, with the fifth book being slightly larger"
      ]
    },
    {
      "cell_type": "code",
      "metadata": {
        "colab": {
          "base_uri": "https://localhost:8080/",
          "height": 163,
          "referenced_widgets": [
            "3ff3c878036b4aeeab4f284d0b101dce",
            "a6ee704babf2449f8825eb3fb5e60835",
            "0cadbb8e438143b091c9f69261472f32",
            "960e64ec34ef4f7ea060bcdbc82f0ac2",
            "d1a40b55785d42e9ae6ac6b13191897c",
            "372ef70e03704c1b9d242190e57dfb65",
            "fa8175326f8b46d9af1235ecb5e1ac53",
            "8f644174292e407dbcafde1148346ff1",
            "a68a128476c04070a901a039abc98cc0",
            "7bc3d9ee0ab249f583f29a504dd3021f",
            "3fb48ff8f498404eb7a01d2ca08915e2",
            "2111796c4fbb40ccbe47636414f4fe98",
            "895bc2e37bb24c45a430a56be6e270b7",
            "801cf4981b454bf3be9572dcce8644c3",
            "e25170eba0d44274af4006827db2c303",
            "6b8b4055080e4dcb806c71da8371fafa",
            "7becdafbc3f3401386633f30067dbef8",
            "55f687162e354fc5917f84c1e7a31d48",
            "90d2b5c5218d48f8be50bfb99bcf8d29",
            "ed48253f4cc340e9a6f10ba5208fe974",
            "cf4ce20509db4bb3b4096b8adae808e9",
            "8f3899f679f94d8c9137d73c1749896b",
            "7650e34f0851446f9e2d945a70630e14",
            "19c9c7617cc2467280e749533f37c895"
          ]
        },
        "id": "Geuy-S7OhSoA",
        "outputId": "eb413606-c003-4907-8c6c-3d340e3014ca"
      },
      "source": [
        "from transformers import BertTokenizer, TFBertForSequenceClassification, BertConfig\n",
        "from transformers import GPT2Tokenizer, TFGPT2LMHeadModel\n",
        "\n",
        "gpt_tokenizer = GPT2Tokenizer.from_pretrained(\"distilgpt2\")"
      ],
      "execution_count": 5,
      "outputs": [
        {
          "output_type": "display_data",
          "data": {
            "application/vnd.jupyter.widget-view+json": {
              "model_id": "3ff3c878036b4aeeab4f284d0b101dce",
              "version_minor": 0,
              "version_major": 2
            },
            "text/plain": [
              "HBox(children=(FloatProgress(value=0.0, description='Downloading', max=1042301.0, style=ProgressStyle(descript…"
            ]
          },
          "metadata": {
            "tags": []
          }
        },
        {
          "output_type": "stream",
          "text": [
            "\n"
          ],
          "name": "stdout"
        },
        {
          "output_type": "display_data",
          "data": {
            "application/vnd.jupyter.widget-view+json": {
              "model_id": "a68a128476c04070a901a039abc98cc0",
              "version_minor": 0,
              "version_major": 2
            },
            "text/plain": [
              "HBox(children=(FloatProgress(value=0.0, description='Downloading', max=456318.0, style=ProgressStyle(descripti…"
            ]
          },
          "metadata": {
            "tags": []
          }
        },
        {
          "output_type": "stream",
          "text": [
            "\n"
          ],
          "name": "stdout"
        },
        {
          "output_type": "display_data",
          "data": {
            "application/vnd.jupyter.widget-view+json": {
              "model_id": "7becdafbc3f3401386633f30067dbef8",
              "version_minor": 0,
              "version_major": 2
            },
            "text/plain": [
              "HBox(children=(FloatProgress(value=0.0, description='Downloading', max=1355256.0, style=ProgressStyle(descript…"
            ]
          },
          "metadata": {
            "tags": []
          }
        },
        {
          "output_type": "stream",
          "text": [
            "\n"
          ],
          "name": "stdout"
        }
      ]
    },
    {
      "cell_type": "code",
      "metadata": {
        "colab": {
          "base_uri": "https://localhost:8080/"
        },
        "id": "tBKqgWfTjrUG",
        "outputId": "eb03c978-9cf9-47ed-e09d-972b35a7a02c"
      },
      "source": [
        "# corpus = ''\n",
        "# for book in books_cl:\n",
        "#   corpus += book\n",
        "\n",
        "book_1 = books_cl[0]\n",
        "len(book_1.split())\n",
        "#Let's check whether the corpus was built correctly\n",
        "# assert len(corpus) == sum([len(i) for i in books_cl]), \"something went wrong\""
      ],
      "execution_count": 10,
      "outputs": [
        {
          "output_type": "execute_result",
          "data": {
            "text/plain": [
              "295970"
            ]
          },
          "metadata": {
            "tags": []
          },
          "execution_count": 10
        }
      ]
    },
    {
      "cell_type": "code",
      "metadata": {
        "id": "FnwCLf-wjk4y"
      },
      "source": [
        "corpus_tk = gpt_tokenizer.encode(book_1, max_length=300000, truncation=True)\n"
      ],
      "execution_count": 11,
      "outputs": []
    },
    {
      "cell_type": "code",
      "metadata": {
        "id": "zwUHdhUJqmIX"
      },
      "source": [
        "import numpy as np\n",
        "# corpus_tk_arr = np.array(corpus_tk)\n",
        "# np.save('book_1_embeddings.npy', corpus_tk_arr)"
      ],
      "execution_count": 14,
      "outputs": []
    },
    {
      "cell_type": "code",
      "metadata": {
        "colab": {
          "base_uri": "https://localhost:8080/"
        },
        "id": "RbSub-kLq-j6",
        "outputId": "19af1b7b-410d-451a-8ed5-caa9ef7eaa27"
      },
      "source": [
        "# Split into blocks\n",
        "training_chunks = []\n",
        "block_size = 100\n",
        "\n",
        "for i in range(0,len(corpus_tk),block_size):\n",
        "        training_chunks.append(corpus_tk[i:i + block_size])\n",
        "\n",
        "# Generate inputs and labels\n",
        "inputs = []\n",
        "labels = []\n",
        "for ex in training_chunks:\n",
        "    inputs.append(ex[:-1])\n",
        "    labels.append(ex[1:])\n",
        "\n",
        "print(\"inputs length:\",len(inputs))\n",
        "print(\"labels length:\",len(labels))"
      ],
      "execution_count": 16,
      "outputs": [
        {
          "output_type": "stream",
          "text": [
            "inputs length: 3000\n",
            "labels length: 3000\n"
          ],
          "name": "stdout"
        }
      ]
    },
    {
      "cell_type": "code",
      "metadata": {
        "colab": {
          "base_uri": "https://localhost:8080/"
        },
        "id": "4btdFjturSMT",
        "outputId": "36a2b6ae-192a-4f30-fec6-8ab87bee926e"
      },
      "source": [
        "import tensorflow as tf\n",
        "from tensorflow import keras\n",
        "from tensorflow.keras.models import Model, Sequential\n",
        "from tensorflow.keras.layers.experimental.preprocessing import TextVectorization\n",
        "from tensorflow.keras.utils import to_categorical\n",
        "from tensorflow.python.keras import backend as K\n",
        "from tensorflow.python.keras.utils.layer_utils import count_params\n",
        "AUTOTUNE = tf.data.experimental.AUTOTUNE\n",
        "\n",
        "BATCH_SIZE = 12\n",
        "TRAIN_SHUFFLE_BUFFER_SIZE = len(inputs)\n",
        "\n",
        "# Create TF Dataset\n",
        "train_data = tf.data.Dataset.from_tensor_slices((inputs, labels))\n",
        "\n",
        "#############\n",
        "# Train data\n",
        "#############\n",
        "train_data = train_data.shuffle(buffer_size=TRAIN_SHUFFLE_BUFFER_SIZE)\n",
        "train_data = train_data.batch(BATCH_SIZE, drop_remainder=True)\n",
        "train_data = train_data.prefetch(buffer_size=AUTOTUNE)\n",
        "\n",
        "print(\"train_data\",train_data)"
      ],
      "execution_count": 26,
      "outputs": [
        {
          "output_type": "stream",
          "text": [
            "train_data <PrefetchDataset shapes: ((12, 99), (12, 99)), types: (tf.int32, tf.int32)>\n"
          ],
          "name": "stdout"
        }
      ]
    },
    {
      "cell_type": "code",
      "metadata": {
        "colab": {
          "base_uri": "https://localhost:8080/",
          "height": 202,
          "referenced_widgets": [
            "79048f1de70f4d5cb2b0e98c08b22b38",
            "791203d2c6ca49a3bca637eac0532bba",
            "9b67d7fe8f0e41b78bc65ecd485701ed",
            "cae118f3551e44498b7357288045c4a7",
            "7e7fe364c0d54bd9a90af760c41c37f4",
            "25608fb57fbf4972b5a6007edfbd2163",
            "1b5ae6d2a74742d2a941cef36c8b3281",
            "ce67c6e9aa2f401f83a7413f9a710dc5",
            "87bfba0cfb2844a7860354bf6cabc712",
            "bdb98785de9e4636aa23702c91d91451",
            "8eff97302d99480f8bdc83357c2624c1",
            "6673ddad85ae45af873c72aaa5995fe8",
            "0a790c155e0f46e29ff9d1a3ca0595dd",
            "47684c93229f49159e706b6d86248033",
            "7a0d884fea2e421185a35b16f97ffb35",
            "256bf27c7cd149bb9a2a1b8783d8a8db"
          ]
        },
        "id": "u5EemuD_sQwz",
        "outputId": "fd19545a-8d31-4e04-8eaa-c177d44e7fc9"
      },
      "source": [
        "K.clear_session()\n",
        "\n",
        "# Build the model\n",
        "model = TFGPT2LMHeadModel.from_pretrained(\"distilgpt2\")\n"
      ],
      "execution_count": 27,
      "outputs": [
        {
          "output_type": "display_data",
          "data": {
            "application/vnd.jupyter.widget-view+json": {
              "model_id": "79048f1de70f4d5cb2b0e98c08b22b38",
              "version_minor": 0,
              "version_major": 2
            },
            "text/plain": [
              "HBox(children=(FloatProgress(value=0.0, description='Downloading', max=762.0, style=ProgressStyle(description_…"
            ]
          },
          "metadata": {
            "tags": []
          }
        },
        {
          "output_type": "stream",
          "text": [
            "\n"
          ],
          "name": "stdout"
        },
        {
          "output_type": "display_data",
          "data": {
            "application/vnd.jupyter.widget-view+json": {
              "model_id": "87bfba0cfb2844a7860354bf6cabc712",
              "version_minor": 0,
              "version_major": 2
            },
            "text/plain": [
              "HBox(children=(FloatProgress(value=0.0, description='Downloading', max=327744160.0, style=ProgressStyle(descri…"
            ]
          },
          "metadata": {
            "tags": []
          }
        },
        {
          "output_type": "stream",
          "text": [
            "\n"
          ],
          "name": "stdout"
        },
        {
          "output_type": "stream",
          "text": [
            "All model checkpoint layers were used when initializing TFGPT2LMHeadModel.\n",
            "\n",
            "All the layers of TFGPT2LMHeadModel were initialized from the model checkpoint at distilgpt2.\n",
            "If your task is similar to the task the model of the checkpoint was trained on, you can already use TFGPT2LMHeadModel for predictions without further training.\n"
          ],
          "name": "stderr"
        }
      ]
    },
    {
      "cell_type": "code",
      "metadata": {
        "colab": {
          "base_uri": "https://localhost:8080/"
        },
        "id": "OHCPwerKsBeX",
        "outputId": "29f4e460-a7de-4d57-9ebb-c4c658645867"
      },
      "source": [
        "import time \n",
        "learning_rate = 3e-5 \n",
        "epsilon=1e-08\n",
        "clipnorm=1.0\n",
        "epochs = 30\n",
        "\n",
        "\n",
        "# Print the model architecture\n",
        "print(model.summary())\n",
        "\n",
        "# Optimizer\n",
        "optimizer = keras.optimizers.Adam(learning_rate=learning_rate, epsilon=epsilon, clipnorm=clipnorm)\n",
        "# Loss\n",
        "loss = keras.losses.SparseCategoricalCrossentropy(from_logits=True)\n",
        "metric = keras.metrics.SparseCategoricalAccuracy('accuracy')\n",
        "\n",
        "# Compile\n",
        "model.compile(loss=[loss, *[None] * model.config.n_layer],\n",
        "                  optimizer=optimizer,\n",
        "                  metrics=[metric])\n",
        "\n",
        "# Train model\n",
        "start_time = time.time()\n",
        "training_results = model.fit(\n",
        "        train_data, # train_data.take(1000) for testing\n",
        "        epochs=epochs, \n",
        "        verbose=1)\n",
        "execution_time = (time.time() - start_time)/60.0\n",
        "print(\"Training execution time (mins)\",execution_time)\n"
      ],
      "execution_count": 29,
      "outputs": [
        {
          "output_type": "stream",
          "text": [
            "Model: \"tfgp_t2lm_head_model\"\n",
            "_________________________________________________________________\n",
            "Layer (type)                 Output Shape              Param #   \n",
            "=================================================================\n",
            "transformer (TFGPT2MainLayer multiple                  81912576  \n",
            "=================================================================\n",
            "Total params: 81,912,576\n",
            "Trainable params: 81,912,576\n",
            "Non-trainable params: 0\n",
            "_________________________________________________________________\n",
            "None\n",
            "Epoch 1/30\n",
            "WARNING:tensorflow:The parameters `output_attentions`, `output_hidden_states` and `use_cache` cannot be updated when calling a model.They have to be set to True/False in the config object (i.e.: `config=XConfig.from_pretrained('name', output_attentions=True)`).\n",
            "WARNING:tensorflow:AutoGraph could not transform <bound method Socket.send of <zmq.sugar.socket.Socket object at 0x7f8622a70e50>> and will run it as-is.\n",
            "Please report this to the TensorFlow team. When filing the bug, set the verbosity to 10 (on Linux, `export AUTOGRAPH_VERBOSITY=10`) and attach the full output.\n",
            "Cause: module, class, method, function, traceback, frame, or code object was expected, got cython_function_or_method\n",
            "To silence this warning, decorate the function with @tf.autograph.experimental.do_not_convert\n",
            "WARNING: AutoGraph could not transform <bound method Socket.send of <zmq.sugar.socket.Socket object at 0x7f8622a70e50>> and will run it as-is.\n",
            "Please report this to the TensorFlow team. When filing the bug, set the verbosity to 10 (on Linux, `export AUTOGRAPH_VERBOSITY=10`) and attach the full output.\n",
            "Cause: module, class, method, function, traceback, frame, or code object was expected, got cython_function_or_method\n",
            "To silence this warning, decorate the function with @tf.autograph.experimental.do_not_convert\n",
            "WARNING:tensorflow:AutoGraph could not transform <function wrap at 0x7f863e321dd0> and will run it as-is.\n",
            "Cause: while/else statement not yet supported\n",
            "To silence this warning, decorate the function with @tf.autograph.experimental.do_not_convert\n",
            "WARNING: AutoGraph could not transform <function wrap at 0x7f863e321dd0> and will run it as-is.\n",
            "Cause: while/else statement not yet supported\n",
            "To silence this warning, decorate the function with @tf.autograph.experimental.do_not_convert\n",
            "WARNING:tensorflow:The parameter `return_dict` cannot be set in graph mode and will always be set to `True`.\n",
            "WARNING:tensorflow:From /usr/local/lib/python3.7/dist-packages/tensorflow/python/ops/array_ops.py:5049: calling gather (from tensorflow.python.ops.array_ops) with validate_indices is deprecated and will be removed in a future version.\n",
            "Instructions for updating:\n",
            "The `validate_indices` argument has no effect. Indices are always validated on CPU and never validated on GPU.\n",
            "WARNING:tensorflow:The parameters `output_attentions`, `output_hidden_states` and `use_cache` cannot be updated when calling a model.They have to be set to True/False in the config object (i.e.: `config=XConfig.from_pretrained('name', output_attentions=True)`).\n",
            "WARNING:tensorflow:The parameter `return_dict` cannot be set in graph mode and will always be set to `True`.\n",
            "250/250 [==============================] - 105s 256ms/step - loss: 3.5999 - logits_loss: 3.5999 - logits_accuracy: 0.3357 - past_key_values_1_accuracy: 0.0017 - past_key_values_2_accuracy: 0.0014 - past_key_values_3_accuracy: 0.0030 - past_key_values_4_accuracy: 0.0021 - past_key_values_5_accuracy: 9.4444e-04 - past_key_values_6_accuracy: 0.0015\n",
            "Epoch 2/30\n",
            "250/250 [==============================] - 67s 267ms/step - loss: 3.3559 - logits_loss: 3.3559 - logits_accuracy: 0.3595 - past_key_values_1_accuracy: 0.0017 - past_key_values_2_accuracy: 0.0014 - past_key_values_3_accuracy: 0.0030 - past_key_values_4_accuracy: 0.0020 - past_key_values_5_accuracy: 9.8204e-04 - past_key_values_6_accuracy: 0.0016\n",
            "Epoch 3/30\n",
            "250/250 [==============================] - 68s 272ms/step - loss: 3.2499 - logits_loss: 3.2499 - logits_accuracy: 0.3713 - past_key_values_1_accuracy: 0.0017 - past_key_values_2_accuracy: 0.0014 - past_key_values_3_accuracy: 0.0030 - past_key_values_4_accuracy: 0.0020 - past_key_values_5_accuracy: 0.0010 - past_key_values_6_accuracy: 0.0016\n",
            "Epoch 4/30\n",
            "250/250 [==============================] - 69s 275ms/step - loss: 3.1677 - logits_loss: 3.1677 - logits_accuracy: 0.3801 - past_key_values_1_accuracy: 0.0017 - past_key_values_2_accuracy: 0.0015 - past_key_values_3_accuracy: 0.0030 - past_key_values_4_accuracy: 0.0019 - past_key_values_5_accuracy: 0.0010 - past_key_values_6_accuracy: 0.0016\n",
            "Epoch 5/30\n",
            "250/250 [==============================] - 70s 278ms/step - loss: 3.0997 - logits_loss: 3.0997 - logits_accuracy: 0.3876 - past_key_values_1_accuracy: 0.0017 - past_key_values_2_accuracy: 0.0015 - past_key_values_3_accuracy: 0.0030 - past_key_values_4_accuracy: 0.0019 - past_key_values_5_accuracy: 0.0010 - past_key_values_6_accuracy: 0.0016\n",
            "Epoch 6/30\n",
            "250/250 [==============================] - 69s 277ms/step - loss: 3.0353 - logits_loss: 3.0353 - logits_accuracy: 0.3950 - past_key_values_1_accuracy: 0.0018 - past_key_values_2_accuracy: 0.0014 - past_key_values_3_accuracy: 0.0029 - past_key_values_4_accuracy: 0.0018 - past_key_values_5_accuracy: 0.0010 - past_key_values_6_accuracy: 0.0017\n",
            "Epoch 7/30\n",
            "250/250 [==============================] - 69s 278ms/step - loss: 2.9773 - logits_loss: 2.9773 - logits_accuracy: 0.4010 - past_key_values_1_accuracy: 0.0018 - past_key_values_2_accuracy: 0.0014 - past_key_values_3_accuracy: 0.0029 - past_key_values_4_accuracy: 0.0018 - past_key_values_5_accuracy: 0.0011 - past_key_values_6_accuracy: 0.0016\n",
            "Epoch 8/30\n",
            "250/250 [==============================] - 70s 280ms/step - loss: 2.9204 - logits_loss: 2.9204 - logits_accuracy: 0.4082 - past_key_values_1_accuracy: 0.0018 - past_key_values_2_accuracy: 0.0015 - past_key_values_3_accuracy: 0.0030 - past_key_values_4_accuracy: 0.0017 - past_key_values_5_accuracy: 0.0010 - past_key_values_6_accuracy: 0.0017\n",
            "Epoch 9/30\n",
            "250/250 [==============================] - 70s 281ms/step - loss: 2.8680 - logits_loss: 2.8680 - logits_accuracy: 0.4157 - past_key_values_1_accuracy: 0.0018 - past_key_values_2_accuracy: 0.0015 - past_key_values_3_accuracy: 0.0030 - past_key_values_4_accuracy: 0.0018 - past_key_values_5_accuracy: 0.0011 - past_key_values_6_accuracy: 0.0017\n",
            "Epoch 10/30\n",
            "250/250 [==============================] - 71s 283ms/step - loss: 2.8147 - logits_loss: 2.8147 - logits_accuracy: 0.4220 - past_key_values_1_accuracy: 0.0017 - past_key_values_2_accuracy: 0.0015 - past_key_values_3_accuracy: 0.0030 - past_key_values_4_accuracy: 0.0017 - past_key_values_5_accuracy: 0.0011 - past_key_values_6_accuracy: 0.0017\n",
            "Epoch 11/30\n",
            "250/250 [==============================] - 71s 283ms/step - loss: 2.7638 - logits_loss: 2.7638 - logits_accuracy: 0.4279 - past_key_values_1_accuracy: 0.0017 - past_key_values_2_accuracy: 0.0015 - past_key_values_3_accuracy: 0.0029 - past_key_values_4_accuracy: 0.0018 - past_key_values_5_accuracy: 0.0011 - past_key_values_6_accuracy: 0.0017\n",
            "Epoch 12/30\n",
            "250/250 [==============================] - 70s 280ms/step - loss: 2.7159 - logits_loss: 2.7159 - logits_accuracy: 0.4336 - past_key_values_1_accuracy: 0.0018 - past_key_values_2_accuracy: 0.0015 - past_key_values_3_accuracy: 0.0029 - past_key_values_4_accuracy: 0.0017 - past_key_values_5_accuracy: 0.0011 - past_key_values_6_accuracy: 0.0017\n",
            "Epoch 13/30\n",
            "250/250 [==============================] - 70s 279ms/step - loss: 2.6680 - logits_loss: 2.6680 - logits_accuracy: 0.4397 - past_key_values_1_accuracy: 0.0018 - past_key_values_2_accuracy: 0.0015 - past_key_values_3_accuracy: 0.0029 - past_key_values_4_accuracy: 0.0017 - past_key_values_5_accuracy: 0.0011 - past_key_values_6_accuracy: 0.0017\n",
            "Epoch 14/30\n",
            "250/250 [==============================] - 70s 282ms/step - loss: 2.6209 - logits_loss: 2.6209 - logits_accuracy: 0.4461 - past_key_values_1_accuracy: 0.0018 - past_key_values_2_accuracy: 0.0015 - past_key_values_3_accuracy: 0.0029 - past_key_values_4_accuracy: 0.0017 - past_key_values_5_accuracy: 0.0011 - past_key_values_6_accuracy: 0.0017\n",
            "Epoch 15/30\n",
            "250/250 [==============================] - 70s 280ms/step - loss: 2.5743 - logits_loss: 2.5743 - logits_accuracy: 0.4519 - past_key_values_1_accuracy: 0.0018 - past_key_values_2_accuracy: 0.0015 - past_key_values_3_accuracy: 0.0029 - past_key_values_4_accuracy: 0.0016 - past_key_values_5_accuracy: 0.0011 - past_key_values_6_accuracy: 0.0017\n",
            "Epoch 16/30\n",
            "250/250 [==============================] - 70s 279ms/step - loss: 2.5299 - logits_loss: 2.5299 - logits_accuracy: 0.4578 - past_key_values_1_accuracy: 0.0017 - past_key_values_2_accuracy: 0.0015 - past_key_values_3_accuracy: 0.0028 - past_key_values_4_accuracy: 0.0017 - past_key_values_5_accuracy: 0.0011 - past_key_values_6_accuracy: 0.0017\n",
            "Epoch 17/30\n",
            "250/250 [==============================] - 70s 278ms/step - loss: 2.4854 - logits_loss: 2.4854 - logits_accuracy: 0.4639 - past_key_values_1_accuracy: 0.0017 - past_key_values_2_accuracy: 0.0015 - past_key_values_3_accuracy: 0.0029 - past_key_values_4_accuracy: 0.0017 - past_key_values_5_accuracy: 0.0011 - past_key_values_6_accuracy: 0.0016\n",
            "Epoch 18/30\n",
            "250/250 [==============================] - 70s 281ms/step - loss: 2.4414 - logits_loss: 2.4414 - logits_accuracy: 0.4705 - past_key_values_1_accuracy: 0.0018 - past_key_values_2_accuracy: 0.0016 - past_key_values_3_accuracy: 0.0029 - past_key_values_4_accuracy: 0.0017 - past_key_values_5_accuracy: 0.0011 - past_key_values_6_accuracy: 0.0017\n",
            "Epoch 19/30\n",
            "250/250 [==============================] - 70s 279ms/step - loss: 2.3985 - logits_loss: 2.3985 - logits_accuracy: 0.4761 - past_key_values_1_accuracy: 0.0017 - past_key_values_2_accuracy: 0.0015 - past_key_values_3_accuracy: 0.0029 - past_key_values_4_accuracy: 0.0017 - past_key_values_5_accuracy: 0.0011 - past_key_values_6_accuracy: 0.0017\n",
            "Epoch 20/30\n",
            "250/250 [==============================] - 70s 279ms/step - loss: 2.3564 - logits_loss: 2.3564 - logits_accuracy: 0.4827 - past_key_values_1_accuracy: 0.0018 - past_key_values_2_accuracy: 0.0015 - past_key_values_3_accuracy: 0.0029 - past_key_values_4_accuracy: 0.0016 - past_key_values_5_accuracy: 0.0011 - past_key_values_6_accuracy: 0.0017\n",
            "Epoch 21/30\n",
            "250/250 [==============================] - 70s 281ms/step - loss: 2.3157 - logits_loss: 2.3157 - logits_accuracy: 0.4886 - past_key_values_1_accuracy: 0.0017 - past_key_values_2_accuracy: 0.0015 - past_key_values_3_accuracy: 0.0029 - past_key_values_4_accuracy: 0.0017 - past_key_values_5_accuracy: 0.0011 - past_key_values_6_accuracy: 0.0017\n",
            "Epoch 22/30\n",
            "250/250 [==============================] - 71s 283ms/step - loss: 2.2706 - logits_loss: 2.2706 - logits_accuracy: 0.4951 - past_key_values_1_accuracy: 0.0018 - past_key_values_2_accuracy: 0.0015 - past_key_values_3_accuracy: 0.0029 - past_key_values_4_accuracy: 0.0017 - past_key_values_5_accuracy: 0.0011 - past_key_values_6_accuracy: 0.0017\n",
            "Epoch 23/30\n",
            "250/250 [==============================] - 70s 280ms/step - loss: 2.2305 - logits_loss: 2.2305 - logits_accuracy: 0.5001 - past_key_values_1_accuracy: 0.0017 - past_key_values_2_accuracy: 0.0014 - past_key_values_3_accuracy: 0.0029 - past_key_values_4_accuracy: 0.0016 - past_key_values_5_accuracy: 0.0011 - past_key_values_6_accuracy: 0.0017\n",
            "Epoch 24/30\n",
            "250/250 [==============================] - 70s 279ms/step - loss: 2.1904 - logits_loss: 2.1904 - logits_accuracy: 0.5071 - past_key_values_1_accuracy: 0.0018 - past_key_values_2_accuracy: 0.0015 - past_key_values_3_accuracy: 0.0030 - past_key_values_4_accuracy: 0.0016 - past_key_values_5_accuracy: 0.0011 - past_key_values_6_accuracy: 0.0017\n",
            "Epoch 25/30\n",
            "250/250 [==============================] - 70s 281ms/step - loss: 2.1519 - logits_loss: 2.1519 - logits_accuracy: 0.5129 - past_key_values_1_accuracy: 0.0018 - past_key_values_2_accuracy: 0.0015 - past_key_values_3_accuracy: 0.0030 - past_key_values_4_accuracy: 0.0017 - past_key_values_5_accuracy: 0.0011 - past_key_values_6_accuracy: 0.0017\n",
            "Epoch 26/30\n",
            "250/250 [==============================] - 70s 278ms/step - loss: 2.1135 - logits_loss: 2.1135 - logits_accuracy: 0.5184 - past_key_values_1_accuracy: 0.0018 - past_key_values_2_accuracy: 0.0015 - past_key_values_3_accuracy: 0.0030 - past_key_values_4_accuracy: 0.0016 - past_key_values_5_accuracy: 0.0011 - past_key_values_6_accuracy: 0.0017\n",
            "Epoch 27/30\n",
            "250/250 [==============================] - 70s 281ms/step - loss: 2.0755 - logits_loss: 2.0755 - logits_accuracy: 0.5240 - past_key_values_1_accuracy: 0.0017 - past_key_values_2_accuracy: 0.0015 - past_key_values_3_accuracy: 0.0030 - past_key_values_4_accuracy: 0.0016 - past_key_values_5_accuracy: 0.0012 - past_key_values_6_accuracy: 0.0017\n",
            "Epoch 28/30\n",
            "250/250 [==============================] - 70s 278ms/step - loss: 2.0376 - logits_loss: 2.0376 - logits_accuracy: 0.5308 - past_key_values_1_accuracy: 0.0018 - past_key_values_2_accuracy: 0.0015 - past_key_values_3_accuracy: 0.0029 - past_key_values_4_accuracy: 0.0016 - past_key_values_5_accuracy: 0.0012 - past_key_values_6_accuracy: 0.0017\n",
            "Epoch 29/30\n",
            "250/250 [==============================] - 70s 281ms/step - loss: 1.9966 - logits_loss: 1.9966 - logits_accuracy: 0.5366 - past_key_values_1_accuracy: 0.0017 - past_key_values_2_accuracy: 0.0016 - past_key_values_3_accuracy: 0.0030 - past_key_values_4_accuracy: 0.0016 - past_key_values_5_accuracy: 0.0011 - past_key_values_6_accuracy: 0.0017\n",
            "Epoch 30/30\n",
            "250/250 [==============================] - 70s 281ms/step - loss: 1.9625 - logits_loss: 1.9625 - logits_accuracy: 0.5427 - past_key_values_1_accuracy: 0.0018 - past_key_values_2_accuracy: 0.0015 - past_key_values_3_accuracy: 0.0030 - past_key_values_4_accuracy: 0.0016 - past_key_values_5_accuracy: 0.0012 - past_key_values_6_accuracy: 0.0017\n",
            "Training execution time (mins) 38.72787260214488\n"
          ],
          "name": "stdout"
        }
      ]
    },
    {
      "cell_type": "code",
      "metadata": {
        "id": "6jUdicjm5tuR"
      },
      "source": [
        "model.save_weights('.my_checkpoint')"
      ],
      "execution_count": 30,
      "outputs": []
    },
    {
      "cell_type": "code",
      "metadata": {
        "colab": {
          "base_uri": "https://localhost:8080/"
        },
        "id": "OTHEkIFZ6LTt",
        "outputId": "b1ca4b94-ecd6-47e4-c142-052b9a86e9b8"
      },
      "source": [
        "model.save('my_model')"
      ],
      "execution_count": 31,
      "outputs": [
        {
          "output_type": "stream",
          "text": [
            "WARNING:tensorflow:The parameters `output_attentions`, `output_hidden_states` and `use_cache` cannot be updated when calling a model.They have to be set to True/False in the config object (i.e.: `config=XConfig.from_pretrained('name', output_attentions=True)`).\n",
            "WARNING:tensorflow:The parameter `return_dict` cannot be set in graph mode and will always be set to `True`.\n",
            "WARNING:tensorflow:The parameters `output_attentions`, `output_hidden_states` and `use_cache` cannot be updated when calling a model.They have to be set to True/False in the config object (i.e.: `config=XConfig.from_pretrained('name', output_attentions=True)`).\n",
            "WARNING:tensorflow:The parameter `return_dict` cannot be set in graph mode and will always be set to `True`.\n",
            "WARNING:tensorflow:The parameters `output_attentions`, `output_hidden_states` and `use_cache` cannot be updated when calling a model.They have to be set to True/False in the config object (i.e.: `config=XConfig.from_pretrained('name', output_attentions=True)`).\n",
            "WARNING:tensorflow:The parameter `return_dict` cannot be set in graph mode and will always be set to `True`.\n",
            "WARNING:tensorflow:The parameters `output_attentions`, `output_hidden_states` and `use_cache` cannot be updated when calling a model.They have to be set to True/False in the config object (i.e.: `config=XConfig.from_pretrained('name', output_attentions=True)`).\n",
            "WARNING:tensorflow:The parameter `return_dict` cannot be set in graph mode and will always be set to `True`.\n",
            "WARNING:tensorflow:The parameters `output_attentions`, `output_hidden_states` and `use_cache` cannot be updated when calling a model.They have to be set to True/False in the config object (i.e.: `config=XConfig.from_pretrained('name', output_attentions=True)`).\n",
            "WARNING:tensorflow:The parameter `return_dict` cannot be set in graph mode and will always be set to `True`.\n",
            "WARNING:tensorflow:The parameters `output_attentions`, `output_hidden_states` and `use_cache` cannot be updated when calling a model.They have to be set to True/False in the config object (i.e.: `config=XConfig.from_pretrained('name', output_attentions=True)`).\n",
            "WARNING:tensorflow:The parameter `return_dict` cannot be set in graph mode and will always be set to `True`.\n",
            "WARNING:tensorflow:The parameters `output_attentions`, `output_hidden_states` and `use_cache` cannot be updated when calling a model.They have to be set to True/False in the config object (i.e.: `config=XConfig.from_pretrained('name', output_attentions=True)`).\n",
            "WARNING:tensorflow:The parameter `return_dict` cannot be set in graph mode and will always be set to `True`.\n",
            "WARNING:tensorflow:The parameters `output_attentions`, `output_hidden_states` and `use_cache` cannot be updated when calling a model.They have to be set to True/False in the config object (i.e.: `config=XConfig.from_pretrained('name', output_attentions=True)`).\n",
            "WARNING:tensorflow:The parameter `return_dict` cannot be set in graph mode and will always be set to `True`.\n"
          ],
          "name": "stdout"
        },
        {
          "output_type": "stream",
          "text": [
            "WARNING:absl:Found untraced functions such as wte_layer_call_fn, wte_layer_call_and_return_conditional_losses, dropout_layer_call_fn, dropout_layer_call_and_return_conditional_losses, ln_f_layer_call_fn while saving (showing 5 of 375). These functions will not be directly callable after loading.\n"
          ],
          "name": "stderr"
        },
        {
          "output_type": "stream",
          "text": [
            "INFO:tensorflow:Assets written to: my_model/assets\n"
          ],
          "name": "stdout"
        },
        {
          "output_type": "stream",
          "text": [
            "INFO:tensorflow:Assets written to: my_model/assets\n"
          ],
          "name": "stderr"
        }
      ]
    },
    {
      "cell_type": "code",
      "metadata": {
        "colab": {
          "base_uri": "https://localhost:8080/",
          "height": 170
        },
        "id": "ib5i5pO79zGY",
        "outputId": "94991c84-79ae-4a2f-a8e2-7511ab92a2b3"
      },
      "source": [
        "input_text = \"Sansa frowned\"\n",
        "\n",
        "# Tokenize Input\n",
        "input_ids = gpt_tokenizer.encode(input_text, return_tensors='tf')\n",
        "print(\"input_ids\",input_ids)\n",
        "\n",
        "# Generate outout\n",
        "outputs = model.generate(\n",
        "    input_ids, \n",
        "    do_sample=True, \n",
        "    max_length=250, \n",
        "    top_p=0.80, \n",
        "    top_k=0\n",
        ")\n",
        "\n",
        "print(\"Generated text:\")\n",
        "display(gpt_tokenizer.decode(outputs[0], skip_special_tokens=True))"
      ],
      "execution_count": 33,
      "outputs": [
        {
          "output_type": "stream",
          "text": [
            "Setting `pad_token_id` to 50256 (first `eos_token_id`) to generate sequence\n"
          ],
          "name": "stderr"
        },
        {
          "output_type": "stream",
          "text": [
            "input_ids tf.Tensor([[   50   504    64 32198]], shape=(1, 4), dtype=int32)\n",
            "Generated text:\n"
          ],
          "name": "stdout"
        },
        {
          "output_type": "display_data",
          "data": {
            "application/vnd.google.colaboratory.intrinsic+json": {
              "type": "string"
            },
            "text/plain": [
              "'Sansa frowned. “We will hire men who understand the man’s needs.”  “They will,” Tyrion said. He turned back to the other men. “You have no time for this, lady. You have no place here.”  “It is my place, m’lord,” the dwarf said. “Your place here will be your own.”  “Your place is here,” Tyrion said.  “You are not alone,” Catelyn reminded him. “Nor are we alone. You must not forget who you are, nor do you place your trust. You must not forget who you are.”  “Your place is yours,” Varys said.  “You are not alone,” the dwarf said. “A knight must be brave, yes. Your place is yours. A knight must be brave.”  “A knight must be brave, yes,” the dwarf said. “Not alone,” she told him. “You must not forget who you are.”  “Do'"
            ]
          },
          "metadata": {
            "tags": []
          }
        }
      ]
    },
    {
      "cell_type": "code",
      "metadata": {
        "id": "03iwRpVr9_8y"
      },
      "source": [
        ""
      ],
      "execution_count": null,
      "outputs": []
    }
  ]
}